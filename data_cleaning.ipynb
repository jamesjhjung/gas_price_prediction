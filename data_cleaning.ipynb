{
 "cells": [
  {
   "cell_type": "code",
   "execution_count": 1,
   "metadata": {},
   "outputs": [],
   "source": [
    "import pandas as pd\n",
    "import numpy as np"
   ]
  },
  {
   "cell_type": "code",
   "execution_count": 27,
   "metadata": {},
   "outputs": [
    {
     "name": "stderr",
     "output_type": "stream",
     "text": [
      "c:\\Users\\james\\anaconda3\\lib\\site-packages\\openpyxl\\styles\\stylesheet.py:226: UserWarning: Workbook contains no default style, apply openpyxl's default\n",
      "  warn(\"Workbook contains no default style, apply openpyxl's default\")\n",
      "c:\\Users\\james\\anaconda3\\lib\\site-packages\\openpyxl\\styles\\stylesheet.py:226: UserWarning: Workbook contains no default style, apply openpyxl's default\n",
      "  warn(\"Workbook contains no default style, apply openpyxl's default\")\n",
      "c:\\Users\\james\\anaconda3\\lib\\site-packages\\openpyxl\\styles\\stylesheet.py:226: UserWarning: Workbook contains no default style, apply openpyxl's default\n",
      "  warn(\"Workbook contains no default style, apply openpyxl's default\")\n",
      "c:\\Users\\james\\anaconda3\\lib\\site-packages\\openpyxl\\styles\\stylesheet.py:226: UserWarning: Workbook contains no default style, apply openpyxl's default\n",
      "  warn(\"Workbook contains no default style, apply openpyxl's default\")\n",
      "c:\\Users\\james\\anaconda3\\lib\\site-packages\\openpyxl\\styles\\stylesheet.py:226: UserWarning: Workbook contains no default style, apply openpyxl's default\n",
      "  warn(\"Workbook contains no default style, apply openpyxl's default\")\n",
      "c:\\Users\\james\\anaconda3\\lib\\site-packages\\openpyxl\\styles\\stylesheet.py:226: UserWarning: Workbook contains no default style, apply openpyxl's default\n",
      "  warn(\"Workbook contains no default style, apply openpyxl's default\")\n",
      "c:\\Users\\james\\anaconda3\\lib\\site-packages\\openpyxl\\styles\\stylesheet.py:226: UserWarning: Workbook contains no default style, apply openpyxl's default\n",
      "  warn(\"Workbook contains no default style, apply openpyxl's default\")\n",
      "c:\\Users\\james\\anaconda3\\lib\\site-packages\\openpyxl\\styles\\stylesheet.py:226: UserWarning: Workbook contains no default style, apply openpyxl's default\n",
      "  warn(\"Workbook contains no default style, apply openpyxl's default\")\n"
     ]
    }
   ],
   "source": [
    "# load data\n",
    "df_2016 = pd.read_excel('data/Unleaded_Retail (Incl. Tax)_DAILY_2016.xlsx')\n",
    "df_2017 = pd.read_excel('data/Unleaded_Retail (Incl. Tax)_DAILY_2017.xlsx')\n",
    "df_2018 = pd.read_excel('data/Unleaded_Retail (Incl. Tax)_DAILY_2018.xlsx')\n",
    "df_2019 = pd.read_excel('data/Unleaded_Retail (Incl. Tax)_DAILY_2019.xlsx')\n",
    "df_2020 = pd.read_excel('data/Unleaded_Retail (Incl. Tax)_DAILY_2020.xlsx')\n",
    "df_2021 = pd.read_excel('data/Unleaded_Retail (Incl. Tax)_DAILY_2021.xlsx')\n",
    "df_2022 = pd.read_excel('data/Unleaded_Retail (Incl. Tax)_DAILY_2022.xlsx')\n",
    "df_2023 = pd.read_excel('data/Unleaded_Retail (Incl. Tax)_DAILY_2023.xlsx')"
   ]
  },
  {
   "cell_type": "code",
   "execution_count": 65,
   "metadata": {},
   "outputs": [],
   "source": [
    "# transpose data\n",
    "transposed_2016 = df_2016.transpose()\n",
    "transposed_2017 = df_2017.transpose()\n",
    "transposed_2018 = df_2018.transpose()\n",
    "transposed_2019 = df_2019.transpose()\n",
    "transposed_2020 = df_2020.transpose()\n",
    "transposed_2021 = df_2021.transpose()\n",
    "transposed_2022 = df_2022.transpose()\n",
    "transposed_2023 = df_2023.transpose()"
   ]
  },
  {
   "cell_type": "code",
   "execution_count": 69,
   "metadata": {},
   "outputs": [],
   "source": [
    "# correct column header\n",
    "def correct_header(df):\n",
    "    df.columns = df.iloc[0]\n",
    "    df = df.tail(-1)\n",
    "    return df"
   ]
  },
  {
   "cell_type": "code",
   "execution_count": 73,
   "metadata": {},
   "outputs": [],
   "source": [
    "header_trans_2016 = correct_header(transposed_2016)\n",
    "header_trans_2017 = correct_header(transposed_2017)\n",
    "header_trans_2018 = correct_header(transposed_2018)\n",
    "header_trans_2019 = correct_header(transposed_2019)\n",
    "header_trans_2020 = correct_header(transposed_2020)\n",
    "header_trans_2021 = correct_header(transposed_2021)\n",
    "header_trans_2022 = correct_header(transposed_2022)\n",
    "header_trans_2023 = correct_header(transposed_2023)"
   ]
  },
  {
   "cell_type": "code",
   "execution_count": 77,
   "metadata": {},
   "outputs": [],
   "source": [
    "# change date column name from NaN to date"
   ]
  },
  {
   "cell_type": "code",
   "execution_count": 78,
   "metadata": {},
   "outputs": [],
   "source": [
    "# add year to date"
   ]
  },
  {
   "cell_type": "code",
   "execution_count": 79,
   "metadata": {},
   "outputs": [],
   "source": [
    "# keep date and vancouver columns"
   ]
  },
  {
   "cell_type": "code",
   "execution_count": 80,
   "metadata": {},
   "outputs": [],
   "source": [
    "# combine them all together"
   ]
  }
 ],
 "metadata": {
  "kernelspec": {
   "display_name": "base",
   "language": "python",
   "name": "python3"
  },
  "language_info": {
   "codemirror_mode": {
    "name": "ipython",
    "version": 3
   },
   "file_extension": ".py",
   "mimetype": "text/x-python",
   "name": "python",
   "nbconvert_exporter": "python",
   "pygments_lexer": "ipython3",
   "version": "3.9.12"
  },
  "orig_nbformat": 4
 },
 "nbformat": 4,
 "nbformat_minor": 2
}
