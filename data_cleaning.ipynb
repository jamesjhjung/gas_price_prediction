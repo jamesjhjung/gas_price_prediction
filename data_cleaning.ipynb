{
 "cells": [
  {
   "cell_type": "code",
   "execution_count": 16,
   "metadata": {},
   "outputs": [],
   "source": [
    "import pandas as pd\n",
    "import numpy as np"
   ]
  },
  {
   "cell_type": "code",
   "execution_count": 17,
   "metadata": {},
   "outputs": [
    {
     "name": "stderr",
     "output_type": "stream",
     "text": [
      "c:\\Users\\james\\anaconda3\\lib\\site-packages\\openpyxl\\styles\\stylesheet.py:226: UserWarning: Workbook contains no default style, apply openpyxl's default\n",
      "  warn(\"Workbook contains no default style, apply openpyxl's default\")\n",
      "c:\\Users\\james\\anaconda3\\lib\\site-packages\\openpyxl\\styles\\stylesheet.py:226: UserWarning: Workbook contains no default style, apply openpyxl's default\n",
      "  warn(\"Workbook contains no default style, apply openpyxl's default\")\n",
      "c:\\Users\\james\\anaconda3\\lib\\site-packages\\openpyxl\\styles\\stylesheet.py:226: UserWarning: Workbook contains no default style, apply openpyxl's default\n",
      "  warn(\"Workbook contains no default style, apply openpyxl's default\")\n",
      "c:\\Users\\james\\anaconda3\\lib\\site-packages\\openpyxl\\styles\\stylesheet.py:226: UserWarning: Workbook contains no default style, apply openpyxl's default\n",
      "  warn(\"Workbook contains no default style, apply openpyxl's default\")\n",
      "c:\\Users\\james\\anaconda3\\lib\\site-packages\\openpyxl\\styles\\stylesheet.py:226: UserWarning: Workbook contains no default style, apply openpyxl's default\n",
      "  warn(\"Workbook contains no default style, apply openpyxl's default\")\n",
      "c:\\Users\\james\\anaconda3\\lib\\site-packages\\openpyxl\\styles\\stylesheet.py:226: UserWarning: Workbook contains no default style, apply openpyxl's default\n",
      "  warn(\"Workbook contains no default style, apply openpyxl's default\")\n",
      "c:\\Users\\james\\anaconda3\\lib\\site-packages\\openpyxl\\styles\\stylesheet.py:226: UserWarning: Workbook contains no default style, apply openpyxl's default\n",
      "  warn(\"Workbook contains no default style, apply openpyxl's default\")\n"
     ]
    }
   ],
   "source": [
    "# load data\n",
    "df_2017 = pd.read_excel('data/Unleaded_Retail (Incl. Tax)_DAILY_2017.xlsx')\n",
    "df_2018 = pd.read_excel('data/Unleaded_Retail (Incl. Tax)_DAILY_2018.xlsx')\n",
    "df_2019 = pd.read_excel('data/Unleaded_Retail (Incl. Tax)_DAILY_2019.xlsx')\n",
    "df_2020 = pd.read_excel('data/Unleaded_Retail (Incl. Tax)_DAILY_2020.xlsx')\n",
    "df_2021 = pd.read_excel('data/Unleaded_Retail (Incl. Tax)_DAILY_2021.xlsx')\n",
    "df_2022 = pd.read_excel('data/Unleaded_Retail (Incl. Tax)_DAILY_2022.xlsx')\n",
    "df_2023 = pd.read_excel('data/Unleaded_Retail (Incl. Tax)_DAILY_2023.xlsx')"
   ]
  },
  {
   "cell_type": "code",
   "execution_count": 18,
   "metadata": {},
   "outputs": [],
   "source": [
    "# transpose data\n",
    "transposed_2017 = df_2017.transpose()\n",
    "transposed_2018 = df_2018.transpose()\n",
    "transposed_2019 = df_2019.transpose()\n",
    "transposed_2020 = df_2020.transpose()\n",
    "transposed_2021 = df_2021.transpose()\n",
    "transposed_2022 = df_2022.transpose()\n",
    "transposed_2023 = df_2023.transpose()"
   ]
  },
  {
   "cell_type": "code",
   "execution_count": 19,
   "metadata": {},
   "outputs": [],
   "source": [
    "# correct column header\n",
    "def correct_header(df):\n",
    "    df.columns = df.iloc[0]\n",
    "    df = df.tail(-1)\n",
    "    return df"
   ]
  },
  {
   "cell_type": "code",
   "execution_count": 20,
   "metadata": {},
   "outputs": [],
   "source": [
    "header_trans_2017 = correct_header(transposed_2017)\n",
    "header_trans_2018 = correct_header(transposed_2018)\n",
    "header_trans_2019 = correct_header(transposed_2019)\n",
    "header_trans_2020 = correct_header(transposed_2020)\n",
    "header_trans_2021 = correct_header(transposed_2021)\n",
    "header_trans_2022 = correct_header(transposed_2022)\n",
    "header_trans_2023 = correct_header(transposed_2023)"
   ]
  },
  {
   "cell_type": "code",
   "execution_count": 21,
   "metadata": {},
   "outputs": [],
   "source": [
    "# change date column name from NaN to date\n",
    "def date_col(df):\n",
    "    df.columns = df.columns.fillna('Date')\n",
    "    return df"
   ]
  },
  {
   "cell_type": "code",
   "execution_count": 22,
   "metadata": {},
   "outputs": [],
   "source": [
    "final_2017 = date_col(header_trans_2017)\n",
    "final_2018 = date_col(header_trans_2018)\n",
    "final_2019 = date_col(header_trans_2019)\n",
    "final_2020 = date_col(header_trans_2020)\n",
    "final_2021 = date_col(header_trans_2021)\n",
    "final_2022 = date_col(header_trans_2022)\n",
    "final_2023 = date_col(header_trans_2023)"
   ]
  },
  {
   "cell_type": "code",
   "execution_count": 23,
   "metadata": {},
   "outputs": [
    {
     "name": "stderr",
     "output_type": "stream",
     "text": [
      "C:\\Users\\james\\AppData\\Local\\Temp\\ipykernel_11408\\3482991328.py:2: SettingWithCopyWarning: \n",
      "A value is trying to be set on a copy of a slice from a DataFrame.\n",
      "Try using .loc[row_indexer,col_indexer] = value instead\n",
      "\n",
      "See the caveats in the documentation: https://pandas.pydata.org/pandas-docs/stable/user_guide/indexing.html#returning-a-view-versus-a-copy\n",
      "  final_2017['Date'] = final_2017['Date'].astype(str) + '/2017'\n",
      "C:\\Users\\james\\AppData\\Local\\Temp\\ipykernel_11408\\3482991328.py:3: SettingWithCopyWarning: \n",
      "A value is trying to be set on a copy of a slice from a DataFrame.\n",
      "Try using .loc[row_indexer,col_indexer] = value instead\n",
      "\n",
      "See the caveats in the documentation: https://pandas.pydata.org/pandas-docs/stable/user_guide/indexing.html#returning-a-view-versus-a-copy\n",
      "  final_2018['Date'] = final_2018['Date'].astype(str) + '/2018'\n",
      "C:\\Users\\james\\AppData\\Local\\Temp\\ipykernel_11408\\3482991328.py:4: SettingWithCopyWarning: \n",
      "A value is trying to be set on a copy of a slice from a DataFrame.\n",
      "Try using .loc[row_indexer,col_indexer] = value instead\n",
      "\n",
      "See the caveats in the documentation: https://pandas.pydata.org/pandas-docs/stable/user_guide/indexing.html#returning-a-view-versus-a-copy\n",
      "  final_2019['Date'] = final_2019['Date'].astype(str) + '/2019'\n",
      "C:\\Users\\james\\AppData\\Local\\Temp\\ipykernel_11408\\3482991328.py:5: SettingWithCopyWarning: \n",
      "A value is trying to be set on a copy of a slice from a DataFrame.\n",
      "Try using .loc[row_indexer,col_indexer] = value instead\n",
      "\n",
      "See the caveats in the documentation: https://pandas.pydata.org/pandas-docs/stable/user_guide/indexing.html#returning-a-view-versus-a-copy\n",
      "  final_2020['Date'] = final_2020['Date'].astype(str) + '/2020'\n",
      "C:\\Users\\james\\AppData\\Local\\Temp\\ipykernel_11408\\3482991328.py:6: SettingWithCopyWarning: \n",
      "A value is trying to be set on a copy of a slice from a DataFrame.\n",
      "Try using .loc[row_indexer,col_indexer] = value instead\n",
      "\n",
      "See the caveats in the documentation: https://pandas.pydata.org/pandas-docs/stable/user_guide/indexing.html#returning-a-view-versus-a-copy\n",
      "  final_2021['Date'] = final_2021['Date'].astype(str) + '/2021'\n",
      "C:\\Users\\james\\AppData\\Local\\Temp\\ipykernel_11408\\3482991328.py:7: SettingWithCopyWarning: \n",
      "A value is trying to be set on a copy of a slice from a DataFrame.\n",
      "Try using .loc[row_indexer,col_indexer] = value instead\n",
      "\n",
      "See the caveats in the documentation: https://pandas.pydata.org/pandas-docs/stable/user_guide/indexing.html#returning-a-view-versus-a-copy\n",
      "  final_2022['Date'] = final_2022['Date'].astype(str) + '/2022'\n",
      "C:\\Users\\james\\AppData\\Local\\Temp\\ipykernel_11408\\3482991328.py:8: SettingWithCopyWarning: \n",
      "A value is trying to be set on a copy of a slice from a DataFrame.\n",
      "Try using .loc[row_indexer,col_indexer] = value instead\n",
      "\n",
      "See the caveats in the documentation: https://pandas.pydata.org/pandas-docs/stable/user_guide/indexing.html#returning-a-view-versus-a-copy\n",
      "  final_2023['Date'] = final_2023['Date'].astype(str) + '/2023'\n"
     ]
    }
   ],
   "source": [
    "# add year to date\n",
    "final_2017['Date'] = final_2017['Date'].astype(str) + '/2017'\n",
    "final_2018['Date'] = final_2018['Date'].astype(str) + '/2018'\n",
    "final_2019['Date'] = final_2019['Date'].astype(str) + '/2019'\n",
    "final_2020['Date'] = final_2020['Date'].astype(str) + '/2020'\n",
    "final_2021['Date'] = final_2021['Date'].astype(str) + '/2021'\n",
    "final_2022['Date'] = final_2022['Date'].astype(str) + '/2022'\n",
    "final_2023['Date'] = final_2023['Date'].astype(str) + '/2023'"
   ]
  },
  {
   "cell_type": "code",
   "execution_count": 24,
   "metadata": {},
   "outputs": [],
   "source": [
    "# keep date and vancouver columns\n",
    "final_2017_dropped = final_2017[['Date', 'VANCOUVER']].reset_index(drop = True)\n",
    "final_2018_dropped = final_2018[['Date', 'VANCOUVER']].reset_index(drop = True)\n",
    "final_2019_dropped = final_2019[['Date', 'VANCOUVER*']].reset_index(drop = True)\n",
    "final_2020_dropped = final_2020[['Date', 'VANCOUVER*']].reset_index(drop = True)\n",
    "final_2021_dropped = final_2021[['Date', 'VANCOUVER*']].reset_index(drop = True)\n",
    "final_2022_dropped = final_2022[['Date', 'VANCOUVER*']].reset_index(drop = True)\n",
    "final_2023_dropped = final_2023[['Date', 'VANCOUVER*']].reset_index(drop = True)"
   ]
  },
  {
   "cell_type": "code",
   "execution_count": 25,
   "metadata": {},
   "outputs": [],
   "source": [
    "# rename VANCOUVER* column to VANCOUVER\n",
    "final_2019_dropped = final_2019_dropped.rename(columns = {'VANCOUVER*': 'VANCOUVER'})\n",
    "final_2020_dropped = final_2020_dropped.rename(columns = {'VANCOUVER*': 'VANCOUVER'})\n",
    "final_2021_dropped = final_2021_dropped.rename(columns = {'VANCOUVER*': 'VANCOUVER'})\n",
    "final_2022_dropped = final_2022_dropped.rename(columns = {'VANCOUVER*': 'VANCOUVER'})\n",
    "final_2023_dropped = final_2023_dropped.rename(columns = {'VANCOUVER*': 'VANCOUVER'})"
   ]
  },
  {
   "cell_type": "code",
   "execution_count": 26,
   "metadata": {},
   "outputs": [],
   "source": [
    "# drop duplicate date column\n",
    "df_2017_p = final_2017_dropped.loc[:, ~final_2017_dropped.columns.duplicated()]\n",
    "df_2018_p = final_2018_dropped.loc[:, ~final_2018_dropped.columns.duplicated()]\n",
    "df_2019_p = final_2019_dropped.loc[:, ~final_2019_dropped.columns.duplicated()]\n",
    "df_2020_p = final_2020_dropped.loc[:, ~final_2020_dropped.columns.duplicated()]\n",
    "df_2021_p = final_2021_dropped.loc[:, ~final_2021_dropped.columns.duplicated()]\n",
    "df_2022_p = final_2022_dropped.loc[:, ~final_2022_dropped.columns.duplicated()]\n",
    "df_2023_p = final_2023_dropped.loc[:, ~final_2023_dropped.columns.duplicated()]"
   ]
  },
  {
   "cell_type": "code",
   "execution_count": 27,
   "metadata": {},
   "outputs": [],
   "source": [
    "# combine them all together\n",
    "frames = [df_2017_p, df_2018_p, df_2019_p, df_2020_p, df_2021_p, df_2022_p, df_2023_p]\n",
    "\n",
    "total_df = pd.concat(frames)"
   ]
  },
  {
   "cell_type": "code",
   "execution_count": 28,
   "metadata": {},
   "outputs": [
    {
     "data": {
      "text/html": [
       "<div>\n",
       "<style scoped>\n",
       "    .dataframe tbody tr th:only-of-type {\n",
       "        vertical-align: middle;\n",
       "    }\n",
       "\n",
       "    .dataframe tbody tr th {\n",
       "        vertical-align: top;\n",
       "    }\n",
       "\n",
       "    .dataframe thead th {\n",
       "        text-align: right;\n",
       "    }\n",
       "</style>\n",
       "<table border=\"1\" class=\"dataframe\">\n",
       "  <thead>\n",
       "    <tr style=\"text-align: right;\">\n",
       "      <th></th>\n",
       "      <th>Date</th>\n",
       "      <th>VANCOUVER</th>\n",
       "    </tr>\n",
       "  </thead>\n",
       "  <tbody>\n",
       "    <tr>\n",
       "      <th>0</th>\n",
       "      <td>1/2/2017</td>\n",
       "      <td>130.6</td>\n",
       "    </tr>\n",
       "    <tr>\n",
       "      <th>1</th>\n",
       "      <td>1/3/2017</td>\n",
       "      <td>135.8</td>\n",
       "    </tr>\n",
       "    <tr>\n",
       "      <th>2</th>\n",
       "      <td>1/4/2017</td>\n",
       "      <td>135.9</td>\n",
       "    </tr>\n",
       "    <tr>\n",
       "      <th>3</th>\n",
       "      <td>1/5/2017</td>\n",
       "      <td>134.1</td>\n",
       "    </tr>\n",
       "    <tr>\n",
       "      <th>4</th>\n",
       "      <td>1/6/2017</td>\n",
       "      <td>135.5</td>\n",
       "    </tr>\n",
       "    <tr>\n",
       "      <th>...</th>\n",
       "      <td>...</td>\n",
       "      <td>...</td>\n",
       "    </tr>\n",
       "    <tr>\n",
       "      <th>256</th>\n",
       "      <td>12/26/2023</td>\n",
       "      <td>NaN</td>\n",
       "    </tr>\n",
       "    <tr>\n",
       "      <th>257</th>\n",
       "      <td>12/27/2023</td>\n",
       "      <td>NaN</td>\n",
       "    </tr>\n",
       "    <tr>\n",
       "      <th>258</th>\n",
       "      <td>12/28/2023</td>\n",
       "      <td>NaN</td>\n",
       "    </tr>\n",
       "    <tr>\n",
       "      <th>259</th>\n",
       "      <td>12/29/2023</td>\n",
       "      <td>NaN</td>\n",
       "    </tr>\n",
       "    <tr>\n",
       "      <th>260</th>\n",
       "      <td>1/1/2023</td>\n",
       "      <td>NaN</td>\n",
       "    </tr>\n",
       "  </tbody>\n",
       "</table>\n",
       "<p>1828 rows × 2 columns</p>\n",
       "</div>"
      ],
      "text/plain": [
       "           Date VANCOUVER\n",
       "0      1/2/2017     130.6\n",
       "1      1/3/2017     135.8\n",
       "2      1/4/2017     135.9\n",
       "3      1/5/2017     134.1\n",
       "4      1/6/2017     135.5\n",
       "..          ...       ...\n",
       "256  12/26/2023       NaN\n",
       "257  12/27/2023       NaN\n",
       "258  12/28/2023       NaN\n",
       "259  12/29/2023       NaN\n",
       "260    1/1/2023       NaN\n",
       "\n",
       "[1828 rows x 2 columns]"
      ]
     },
     "execution_count": 28,
     "metadata": {},
     "output_type": "execute_result"
    }
   ],
   "source": [
    "total_df"
   ]
  }
 ],
 "metadata": {
  "kernelspec": {
   "display_name": "base",
   "language": "python",
   "name": "python3"
  },
  "language_info": {
   "codemirror_mode": {
    "name": "ipython",
    "version": 3
   },
   "file_extension": ".py",
   "mimetype": "text/x-python",
   "name": "python",
   "nbconvert_exporter": "python",
   "pygments_lexer": "ipython3",
   "version": "3.9.12"
  },
  "orig_nbformat": 4
 },
 "nbformat": 4,
 "nbformat_minor": 2
}
