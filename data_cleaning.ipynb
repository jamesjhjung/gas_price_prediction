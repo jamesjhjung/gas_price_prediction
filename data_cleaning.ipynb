{
 "cells": [
  {
   "cell_type": "code",
   "execution_count": 2,
   "metadata": {},
   "outputs": [],
   "source": [
    "import pandas as pd\n",
    "import numpy as np"
   ]
  },
  {
   "cell_type": "code",
   "execution_count": 5,
   "metadata": {},
   "outputs": [
    {
     "name": "stderr",
     "output_type": "stream",
     "text": [
      "c:\\Users\\james\\anaconda3\\lib\\site-packages\\openpyxl\\styles\\stylesheet.py:226: UserWarning: Workbook contains no default style, apply openpyxl's default\n",
      "  warn(\"Workbook contains no default style, apply openpyxl's default\")\n",
      "c:\\Users\\james\\anaconda3\\lib\\site-packages\\openpyxl\\styles\\stylesheet.py:226: UserWarning: Workbook contains no default style, apply openpyxl's default\n",
      "  warn(\"Workbook contains no default style, apply openpyxl's default\")\n",
      "c:\\Users\\james\\anaconda3\\lib\\site-packages\\openpyxl\\styles\\stylesheet.py:226: UserWarning: Workbook contains no default style, apply openpyxl's default\n",
      "  warn(\"Workbook contains no default style, apply openpyxl's default\")\n",
      "c:\\Users\\james\\anaconda3\\lib\\site-packages\\openpyxl\\styles\\stylesheet.py:226: UserWarning: Workbook contains no default style, apply openpyxl's default\n",
      "  warn(\"Workbook contains no default style, apply openpyxl's default\")\n",
      "c:\\Users\\james\\anaconda3\\lib\\site-packages\\openpyxl\\styles\\stylesheet.py:226: UserWarning: Workbook contains no default style, apply openpyxl's default\n",
      "  warn(\"Workbook contains no default style, apply openpyxl's default\")\n",
      "c:\\Users\\james\\anaconda3\\lib\\site-packages\\openpyxl\\styles\\stylesheet.py:226: UserWarning: Workbook contains no default style, apply openpyxl's default\n",
      "  warn(\"Workbook contains no default style, apply openpyxl's default\")\n",
      "c:\\Users\\james\\anaconda3\\lib\\site-packages\\openpyxl\\styles\\stylesheet.py:226: UserWarning: Workbook contains no default style, apply openpyxl's default\n",
      "  warn(\"Workbook contains no default style, apply openpyxl's default\")\n",
      "c:\\Users\\james\\anaconda3\\lib\\site-packages\\openpyxl\\styles\\stylesheet.py:226: UserWarning: Workbook contains no default style, apply openpyxl's default\n",
      "  warn(\"Workbook contains no default style, apply openpyxl's default\")\n"
     ]
    }
   ],
   "source": [
    "df_2016 = pd.read_excel('data/Unleaded_Retail (Incl. Tax)_DAILY_2016.xlsx')\n",
    "df_2017 = pd.read_excel('data/Unleaded_Retail (Incl. Tax)_DAILY_2017.xlsx')\n",
    "df_2018 = pd.read_excel('data/Unleaded_Retail (Incl. Tax)_DAILY_2018.xlsx')\n",
    "df_2019 = pd.read_excel('data/Unleaded_Retail (Incl. Tax)_DAILY_2019.xlsx')\n",
    "df_2020 = pd.read_excel('data/Unleaded_Retail (Incl. Tax)_DAILY_2020.xlsx')\n",
    "df_2021 = pd.read_excel('data/Unleaded_Retail (Incl. Tax)_DAILY_2021.xlsx')\n",
    "df_2022 = pd.read_excel('data/Unleaded_Retail (Incl. Tax)_DAILY_2022.xlsx')\n",
    "df_2023 = pd.read_excel('data/Unleaded_Retail (Incl. Tax)_DAILY_2023.xlsx')"
   ]
  },
  {
   "cell_type": "code",
   "execution_count": 8,
   "metadata": {},
   "outputs": [],
   "source": [
    "transposed_2016 = df_2016.transpose()\n",
    "transposed_2017 = df_2017.transpose()\n",
    "transposed_2018 = df_2018.transpose()\n",
    "transposed_2019 = df_2019.transpose()\n",
    "transposed_2020 = df_2020.transpose()\n",
    "transposed_2021 = df_2021.transpose()\n",
    "transposed_2022 = df_2022.transpose()\n",
    "transposed_2023 = df_2023.transpose()"
   ]
  }
 ],
 "metadata": {
  "kernelspec": {
   "display_name": "base",
   "language": "python",
   "name": "python3"
  },
  "language_info": {
   "codemirror_mode": {
    "name": "ipython",
    "version": 3
   },
   "file_extension": ".py",
   "mimetype": "text/x-python",
   "name": "python",
   "nbconvert_exporter": "python",
   "pygments_lexer": "ipython3",
   "version": "3.9.12"
  },
  "orig_nbformat": 4
 },
 "nbformat": 4,
 "nbformat_minor": 2
}
